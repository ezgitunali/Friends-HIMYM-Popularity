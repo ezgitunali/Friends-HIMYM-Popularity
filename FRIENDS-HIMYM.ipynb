{
 "cells": [
  {
   "cell_type": "markdown",
   "id": "429b851b",
   "metadata": {},
   "source": [
    "<h1 style=\"margin-bottom:0\"><center>IS 583 - Social Media Analytics</center></h1>\n",
    "<h2 style=\"margin-top:0\"><center>Assignment 2</center></h2>\n",
    "<br>\n",
    "<p style=\"margin-top:0\"><left><b>Ezgi Tunali - 2095693</b></center></p>"
   ]
  },
  {
   "cell_type": "code",
   "execution_count": 24,
   "id": "a9c38f49",
   "metadata": {
    "scrolled": true
   },
   "outputs": [],
   "source": [
    "#!pip3 install snscrape\n",
    "#!pip3 install sklearn\n",
    "#!pip3 install scikit-posthocs\n",
    "#!pip3 install scikit-learn\n",
    "#!pip3 install pingouin"
   ]
  },
  {
   "cell_type": "code",
   "execution_count": 39,
   "id": "c4b17c0e",
   "metadata": {},
   "outputs": [],
   "source": [
    "from sklearn import preprocessing\n",
    "import scikit_posthocs as sp\n",
    "import numpy as np\n",
    "from scipy import stats\n",
    "import pandas as pd\n",
    "pd.options.display.float_format = '{:,.4f}'.format"
   ]
  },
  {
   "cell_type": "code",
   "execution_count": 40,
   "id": "eee2d90f",
   "metadata": {},
   "outputs": [],
   "source": [
    "import snscrape.modules.twitter as sntwitter #We import only the Twitter module\n",
    "import pandas as pd\n",
    "import datetime\n",
    "from datetime import datetime"
   ]
  },
  {
   "cell_type": "markdown",
   "id": "9aefb4dd",
   "metadata": {},
   "source": [
    "\n",
    "<h2 style=\"margin-top:0\">Dataset Creation</h2>"
   ]
  },
  {
   "cell_type": "code",
   "execution_count": 3,
   "id": "3a5006e4",
   "metadata": {},
   "outputs": [],
   "source": [
    "\n",
    "friends_tweets_list = []\n",
    "for i,tweet in enumerate(sntwitter.TwitterSearchScraper('from:FriendsTV since:2020-06-01 until:2022-11-01 lang:en').get_items()): #declare a username \n",
    "   friends_tweets_list.append([tweet.date, tweet.content, tweet.user.username, tweet.hashtags, tweet.likeCount, tweet.retweetCount, tweet.replyCount]) #declare the attributes to be returned\n",
    "friends_tweets_df = pd.DataFrame(friends_tweets_list, columns=['Datetime', 'Text', 'Username', 'Hashtags', 'Like Count', 'Retweet Count', 'Reply Count'])"
   ]
  },
  {
   "cell_type": "code",
   "execution_count": 4,
   "id": "e97bf7e5",
   "metadata": {},
   "outputs": [],
   "source": [
    "himym_tweets_list = []\n",
    "for i,tweet in enumerate(sntwitter.TwitterSearchScraper('from:OfficialHIMYM since:2020-06-01 until:2022-11-01 lang:en').get_items()): #declare a username \n",
    "    himym_tweets_list.append([tweet.date, tweet.content, tweet.user.username, tweet.hashtags, tweet.likeCount, tweet.retweetCount, tweet.replyCount]) #declare the attributes to be returned\n",
    "himym_tweets_df = pd.DataFrame(himym_tweets_list, columns=['Datetime', 'Text', 'Username', 'Hashtags', 'Like Count', 'Retweet Count', 'Reply Count'])"
   ]
  },
  {
   "cell_type": "code",
   "execution_count": 5,
   "id": "d5accba8",
   "metadata": {},
   "outputs": [],
   "source": [
    "friends_tweets_df.to_json('friends_tweets_original.json', orient = 'split', compression = 'infer', index = 'true')\n",
    "himym_tweets_df.to_json('himym_tweets_original.json', orient = 'split', compression = 'infer', index = 'true')"
   ]
  },
  {
   "cell_type": "code",
   "execution_count": 41,
   "id": "07125677",
   "metadata": {},
   "outputs": [],
   "source": [
    "friends_tweets_df = pd.read_json('friends_tweets_original.json', orient ='split', compression = 'infer')\n",
    "himym_tweets_df = pd.read_json('himym_tweets_original.json', orient ='split', compression = 'infer')"
   ]
  },
  {
   "cell_type": "code",
   "execution_count": 42,
   "id": "17d2a1aa",
   "metadata": {},
   "outputs": [],
   "source": [
    "#len(himym_tweets_df)\n",
    "#len(friends_tweets_df)\n",
    "#himym_tweets_df.head(2)\n",
    "#friends_tweets_df.head(10)"
   ]
  },
  {
   "cell_type": "code",
   "execution_count": 43,
   "id": "3c756935",
   "metadata": {},
   "outputs": [
    {
     "data": {
      "text/html": [
       "<div>\n",
       "<style scoped>\n",
       "    .dataframe tbody tr th:only-of-type {\n",
       "        vertical-align: middle;\n",
       "    }\n",
       "\n",
       "    .dataframe tbody tr th {\n",
       "        vertical-align: top;\n",
       "    }\n",
       "\n",
       "    .dataframe thead th {\n",
       "        text-align: right;\n",
       "    }\n",
       "</style>\n",
       "<table border=\"1\" class=\"dataframe\">\n",
       "  <thead>\n",
       "    <tr style=\"text-align: right;\">\n",
       "      <th></th>\n",
       "      <th>Like Count</th>\n",
       "      <th>Retweet Count</th>\n",
       "      <th>Reply Count</th>\n",
       "    </tr>\n",
       "  </thead>\n",
       "  <tbody>\n",
       "    <tr>\n",
       "      <th>count</th>\n",
       "      <td>220.0000</td>\n",
       "      <td>220.0000</td>\n",
       "      <td>220.0000</td>\n",
       "    </tr>\n",
       "    <tr>\n",
       "      <th>mean</th>\n",
       "      <td>3,450.3955</td>\n",
       "      <td>412.8545</td>\n",
       "      <td>60.4591</td>\n",
       "    </tr>\n",
       "    <tr>\n",
       "      <th>std</th>\n",
       "      <td>3,121.7427</td>\n",
       "      <td>569.7637</td>\n",
       "      <td>160.6679</td>\n",
       "    </tr>\n",
       "    <tr>\n",
       "      <th>min</th>\n",
       "      <td>0.0000</td>\n",
       "      <td>0.0000</td>\n",
       "      <td>0.0000</td>\n",
       "    </tr>\n",
       "    <tr>\n",
       "      <th>25%</th>\n",
       "      <td>1,469.5000</td>\n",
       "      <td>75.7500</td>\n",
       "      <td>9.7500</td>\n",
       "    </tr>\n",
       "    <tr>\n",
       "      <th>50%</th>\n",
       "      <td>2,990.5000</td>\n",
       "      <td>205.5000</td>\n",
       "      <td>17.0000</td>\n",
       "    </tr>\n",
       "    <tr>\n",
       "      <th>75%</th>\n",
       "      <td>4,726.0000</td>\n",
       "      <td>581.5000</td>\n",
       "      <td>39.5000</td>\n",
       "    </tr>\n",
       "    <tr>\n",
       "      <th>max</th>\n",
       "      <td>19,368.0000</td>\n",
       "      <td>5,259.0000</td>\n",
       "      <td>1,280.0000</td>\n",
       "    </tr>\n",
       "  </tbody>\n",
       "</table>\n",
       "</div>"
      ],
      "text/plain": [
       "       Like Count  Retweet Count  Reply Count\n",
       "count    220.0000       220.0000     220.0000\n",
       "mean   3,450.3955       412.8545      60.4591\n",
       "std    3,121.7427       569.7637     160.6679\n",
       "min        0.0000         0.0000       0.0000\n",
       "25%    1,469.5000        75.7500       9.7500\n",
       "50%    2,990.5000       205.5000      17.0000\n",
       "75%    4,726.0000       581.5000      39.5000\n",
       "max   19,368.0000     5,259.0000   1,280.0000"
      ]
     },
     "execution_count": 43,
     "metadata": {},
     "output_type": "execute_result"
    }
   ],
   "source": [
    "himym_tweets_df.describe()"
   ]
  },
  {
   "cell_type": "code",
   "execution_count": 44,
   "id": "6e10bcb6",
   "metadata": {},
   "outputs": [
    {
     "data": {
      "text/html": [
       "<div>\n",
       "<style scoped>\n",
       "    .dataframe tbody tr th:only-of-type {\n",
       "        vertical-align: middle;\n",
       "    }\n",
       "\n",
       "    .dataframe tbody tr th {\n",
       "        vertical-align: top;\n",
       "    }\n",
       "\n",
       "    .dataframe thead th {\n",
       "        text-align: right;\n",
       "    }\n",
       "</style>\n",
       "<table border=\"1\" class=\"dataframe\">\n",
       "  <thead>\n",
       "    <tr style=\"text-align: right;\">\n",
       "      <th></th>\n",
       "      <th>Like Count</th>\n",
       "      <th>Retweet Count</th>\n",
       "      <th>Reply Count</th>\n",
       "    </tr>\n",
       "  </thead>\n",
       "  <tbody>\n",
       "    <tr>\n",
       "      <th>count</th>\n",
       "      <td>379.0000</td>\n",
       "      <td>379.0000</td>\n",
       "      <td>379.0000</td>\n",
       "    </tr>\n",
       "    <tr>\n",
       "      <th>mean</th>\n",
       "      <td>5,030.3668</td>\n",
       "      <td>706.7520</td>\n",
       "      <td>66.1689</td>\n",
       "    </tr>\n",
       "    <tr>\n",
       "      <th>std</th>\n",
       "      <td>8,929.4138</td>\n",
       "      <td>1,975.8028</td>\n",
       "      <td>368.9321</td>\n",
       "    </tr>\n",
       "    <tr>\n",
       "      <th>min</th>\n",
       "      <td>4.0000</td>\n",
       "      <td>0.0000</td>\n",
       "      <td>0.0000</td>\n",
       "    </tr>\n",
       "    <tr>\n",
       "      <th>25%</th>\n",
       "      <td>804.5000</td>\n",
       "      <td>51.5000</td>\n",
       "      <td>10.0000</td>\n",
       "    </tr>\n",
       "    <tr>\n",
       "      <th>50%</th>\n",
       "      <td>2,332.0000</td>\n",
       "      <td>200.0000</td>\n",
       "      <td>23.0000</td>\n",
       "    </tr>\n",
       "    <tr>\n",
       "      <th>75%</th>\n",
       "      <td>6,191.5000</td>\n",
       "      <td>596.5000</td>\n",
       "      <td>46.5000</td>\n",
       "    </tr>\n",
       "    <tr>\n",
       "      <th>max</th>\n",
       "      <td>126,230.0000</td>\n",
       "      <td>27,924.0000</td>\n",
       "      <td>6,803.0000</td>\n",
       "    </tr>\n",
       "  </tbody>\n",
       "</table>\n",
       "</div>"
      ],
      "text/plain": [
       "        Like Count  Retweet Count  Reply Count\n",
       "count     379.0000       379.0000     379.0000\n",
       "mean    5,030.3668       706.7520      66.1689\n",
       "std     8,929.4138     1,975.8028     368.9321\n",
       "min         4.0000         0.0000       0.0000\n",
       "25%       804.5000        51.5000      10.0000\n",
       "50%     2,332.0000       200.0000      23.0000\n",
       "75%     6,191.5000       596.5000      46.5000\n",
       "max   126,230.0000    27,924.0000   6,803.0000"
      ]
     },
     "execution_count": 44,
     "metadata": {},
     "output_type": "execute_result"
    }
   ],
   "source": [
    "friends_tweets_df.describe()"
   ]
  },
  {
   "cell_type": "markdown",
   "id": "ddcf17cf",
   "metadata": {},
   "source": [
    "Outlier Elimination According to Interquartile Range"
   ]
  },
  {
   "cell_type": "code",
   "execution_count": 45,
   "id": "cdb2d77b",
   "metadata": {},
   "outputs": [],
   "source": [
    "''' Detection '''\n",
    "# IQR\n",
    "Q1f = np.percentile(friends_tweets_df['Like Count'], 25,\n",
    "\t\t\t\tinterpolation = 'midpoint')\n",
    "Q3f = np.percentile(friends_tweets_df['Like Count'], 75,\n",
    "\t\t\t\tinterpolation = 'midpoint')\n",
    "IQRf = Q3f - Q1f"
   ]
  },
  {
   "cell_type": "code",
   "execution_count": 46,
   "id": "72e5328d",
   "metadata": {},
   "outputs": [],
   "source": [
    "''' Detection '''\n",
    "# IQR\n",
    "Q1h = np.percentile(himym_tweets_df['Like Count'], 25,\n",
    "\t\t\t\tinterpolation = 'midpoint')\n",
    "Q3h = np.percentile(himym_tweets_df['Like Count'], 75,\n",
    "\t\t\t\tinterpolation = 'midpoint')\n",
    "IQRh = Q3h - Q1h"
   ]
  },
  {
   "cell_type": "code",
   "execution_count": 47,
   "id": "57677259",
   "metadata": {},
   "outputs": [],
   "source": [
    "# Upper bound\n",
    "upperscoref = (Q3f+1.5*IQRf)\n",
    "#print(upperscoref)\n",
    "# Lower bound\n",
    "lowerscoref = (Q1f-1.5*IQRf)\n",
    "#print(lowerscoref)\n",
    "upperscoreh = (Q3h+1.5*IQRh)\n",
    "#print(upperscoreh)\n",
    "lowerscoreh = (Q1h-1.5*IQRh)\n",
    "#print(lowerscoreh)                                 "
   ]
  },
  {
   "cell_type": "code",
   "execution_count": 48,
   "id": "ff534eb6",
   "metadata": {},
   "outputs": [],
   "source": [
    "friends_tweets_df = friends_tweets_df.drop(friends_tweets_df[friends_tweets_df['Like Count'] > upperscoref].index)\n",
    "friends_tweets_df = friends_tweets_df.drop(friends_tweets_df[friends_tweets_df['Like Count'] < lowerscoref].index)"
   ]
  },
  {
   "cell_type": "code",
   "execution_count": 49,
   "id": "0ffb3334",
   "metadata": {},
   "outputs": [],
   "source": [
    "#len(friends_tweets_df)"
   ]
  },
  {
   "cell_type": "code",
   "execution_count": 50,
   "id": "66ec616a",
   "metadata": {},
   "outputs": [],
   "source": [
    "himym_tweets_df = himym_tweets_df.drop(himym_tweets_df[himym_tweets_df['Like Count'] > upperscoreh].index)\n",
    "himym_tweets_df = himym_tweets_df.drop(himym_tweets_df[himym_tweets_df['Like Count'] < lowerscoreh].index)"
   ]
  },
  {
   "cell_type": "code",
   "execution_count": 51,
   "id": "1025d50a",
   "metadata": {},
   "outputs": [],
   "source": [
    "#len(himym_tweets_df)"
   ]
  },
  {
   "cell_type": "code",
   "execution_count": 52,
   "id": "a367fec9",
   "metadata": {},
   "outputs": [],
   "source": [
    "himym_tweets_df = himym_tweets_df.reset_index(drop=True)\n",
    "friends_tweets_df = friends_tweets_df.reset_index(drop=True)"
   ]
  },
  {
   "cell_type": "code",
   "execution_count": 53,
   "id": "08ee27f0",
   "metadata": {},
   "outputs": [],
   "source": [
    "#preprocessing \n",
    "#lowercase conversion, so that character names search can be fully done \n",
    "friends_tweets_df[\"Modified_Text\"] = friends_tweets_df[\"Text\"].apply(lambda x: \" \".join(x.lower() for x in x.split()))\n",
    "himym_tweets_df[\"Modified_Text\"] = himym_tweets_df[\"Text\"].apply(lambda x: \" \".join(x.lower() for x in x.split()))\n"
   ]
  },
  {
   "cell_type": "markdown",
   "id": "d666646c",
   "metadata": {},
   "source": [
    "<h4 style=\"margin-bottom:0\">RQ1) Considering like counts, is there a significant popularity difference between Friends and HIMYM?</h4>"
   ]
  },
  {
   "cell_type": "markdown",
   "id": "8e68ba8b",
   "metadata": {},
   "source": [
    "Rejecting H₀ validates H₁.\n",
    "</br>\n",
    "However failing to reject H₀ doesnt prove H₀ is valid or H₁ is wrong\n",
    "\n",
    "</br>\n",
    "Here the datasets are independent, they are from different accounts. They are not normally distributed"
   ]
  },
  {
   "cell_type": "code",
   "execution_count": 54,
   "id": "6db3c72b",
   "metadata": {},
   "outputs": [],
   "source": [
    "#H₀: data is normally distributed\n",
    "#H₁: data is not normally distributed\n",
    "\n",
    "def check_normality(data):\n",
    "    test_stat_normality, p_value_normality=stats.shapiro(data)\n",
    "    print(\"p value:%.8f\" % p_value_normality)\n",
    "    if p_value_normality <0.05:\n",
    "        print(\"Reject null hypothesis >> The data is not normally distributed\")\n",
    "    else:\n",
    "        print(\"Fail to reject null hypothesis >> The data is normally distributed\") "
   ]
  },
  {
   "cell_type": "code",
   "execution_count": 55,
   "id": "1d727d90",
   "metadata": {},
   "outputs": [],
   "source": [
    "#H₀: variances of samples are same\n",
    "#H₁: variances of samples are not same\n",
    "\n",
    "def check_variance_homogeneity(group1, group2):\n",
    "    test_stat_var, p_value_var= stats.levene(group1,group2)\n",
    "    print(\"p value:%.8f\" % p_value_var)\n",
    "    if p_value_var <0.05:\n",
    "        print(\"Reject null hypothesis >> The variances of the samples are different.\")\n",
    "    else:\n",
    "        print(\"Fail to reject null hypothesis >> The variances of the samples are same.\")"
   ]
  },
  {
   "cell_type": "markdown",
   "id": "a06e6110",
   "metadata": {},
   "source": [
    "\n",
    "I tried standardizing the like counts using cumulative range, as follows. however, it didnt affect the statistical tests' results\n",
    "</br>\n",
    "</br>\n",
    "from sklearn.preprocessing import MinMaxScaler </br>\n",
    "from sklearn.preprocessing import StandardScaler </br>\n",
    "from sklearn.decomposition import PCA </br>\n",
    "</br>\n",
    "h_array = (np.array(himym_tweets_df['Like Count'])).reshape(-1,1) </br>\n",
    "f_array = np.array(friends_tweets_df['Like Count']).reshape(-1,1) </br>\n",
    "likes_array = np.append(h_array, f_array)\n",
    "</br>\n",
    "standardizer = StandardScaler() </br>\n",
    "standardized_likes = standardizer.fit_transform(likes_array.reshape(-1, 1)) </br>\n",
    "standardized_himym_likes = standardized_likes[0:len(h_array)] </br>\n"
   ]
  },
  {
   "cell_type": "code",
   "execution_count": 56,
   "id": "4ed5234f",
   "metadata": {},
   "outputs": [],
   "source": [
    "#check_normality(standardized_friends_likes)\n",
    "#check_normality(standardized_himym_likes)"
   ]
  },
  {
   "cell_type": "code",
   "execution_count": 57,
   "id": "33f86b07",
   "metadata": {},
   "outputs": [
    {
     "name": "stdout",
     "output_type": "stream",
     "text": [
      "p value:0.00000047\n",
      "Reject null hypothesis >> The data is not normally distributed\n",
      "p value:0.00000000\n",
      "Reject null hypothesis >> The data is not normally distributed\n"
     ]
    }
   ],
   "source": [
    "himym_tweets_df['Like Count'] = himym_tweets_df['Like Count'].astype(int)\n",
    "friends_tweets_df['Like Count'] = friends_tweets_df['Like Count'].astype(int)\n",
    "\n",
    "himym_likes = himym_tweets_df['Like Count']\n",
    "friends_likes = friends_tweets_df['Like Count']\n",
    "\n",
    "check_normality(himym_likes)\n",
    "check_normality(friends_likes)\n"
   ]
  },
  {
   "cell_type": "code",
   "execution_count": 58,
   "id": "119344dd",
   "metadata": {},
   "outputs": [],
   "source": [
    "#himym_tweets_df['Like Count'].hist(grid=True, color='#EEE0E5') - right skewed\n",
    "#friends_tweets_df['Like Count'].hist(grid=True, color='#EEE0E5') - right skewed"
   ]
  },
  {
   "cell_type": "markdown",
   "id": "44165ec7",
   "metadata": {},
   "source": [
    "using stats or pingouing library doesn't change the results"
   ]
  },
  {
   "cell_type": "code",
   "execution_count": 59,
   "id": "cf3ee998",
   "metadata": {},
   "outputs": [
    {
     "name": "stdout",
     "output_type": "stream",
     "text": [
      "p-value:0.6437\n",
      "Fail to reject null hypothesis - likes distributions are not significantly different\n"
     ]
    }
   ],
   "source": [
    "#H₀: there is no statistically significant difference between means distributions\n",
    "#H₁: there is statistically significant difference between means distributions\n",
    "\n",
    "#both have same distribution - right skewed. they are not normally distributed\n",
    "#unpaired datasets, same distribution we can user mann-whitney test\n",
    "\n",
    "ttest,pvalue = stats.mannwhitneyu(friends_tweets_df['Like Count'],himym_tweets_df['Like Count'], alternative=\"two-sided\")\n",
    "#ttest,pvalue = stats.mannwhitneyu(standardized_friends_likes,standardized_himym_likes, alternative=\"two-sided\")\n",
    "print(\"p-value:%.4f\" % pvalue)\n",
    "if pvalue <0.05:\n",
    "    print(\"Reject null hypothesis\")\n",
    "else:\n",
    "    print(\"Fail to reject null hypothesis - likes distributions are not significantly different\")\n",
    "    \n",
    "#the probability of getting a sufficiently low value of the test statistic by chance under the null hypothesis is greater than 5%, so we do not reject the null hypothesis in favor of our alternative."
   ]
  },
  {
   "cell_type": "code",
   "execution_count": 60,
   "id": "4962e5dd",
   "metadata": {},
   "outputs": [
    {
     "name": "stderr",
     "output_type": "stream",
     "text": [
      "/var/folders/5y/1lbj6yd54437j449qqbvhdf40000gq/T/ipykernel_47774/805734469.py:5: FutureWarning: The frame.append method is deprecated and will be removed from pandas in a future version. Use pandas.concat instead.\n",
      "  likes_df = himym_tweets_df[['series','Like Count']].append(friends_tweets_df[['series', 'Like Count']])\n"
     ]
    },
    {
     "data": {
      "text/html": [
       "<div>\n",
       "<style scoped>\n",
       "    .dataframe tbody tr th:only-of-type {\n",
       "        vertical-align: middle;\n",
       "    }\n",
       "\n",
       "    .dataframe tbody tr th {\n",
       "        vertical-align: top;\n",
       "    }\n",
       "\n",
       "    .dataframe thead th {\n",
       "        text-align: right;\n",
       "    }\n",
       "</style>\n",
       "<table border=\"1\" class=\"dataframe\">\n",
       "  <thead>\n",
       "    <tr style=\"text-align: right;\">\n",
       "      <th></th>\n",
       "      <th>U-val</th>\n",
       "      <th>alternative</th>\n",
       "      <th>p-val</th>\n",
       "      <th>RBC</th>\n",
       "      <th>CLES</th>\n",
       "    </tr>\n",
       "  </thead>\n",
       "  <tbody>\n",
       "    <tr>\n",
       "      <th>MWU</th>\n",
       "      <td>35,720.0000</td>\n",
       "      <td>two-sided</td>\n",
       "      <td>0.6437</td>\n",
       "      <td>0.0234</td>\n",
       "      <td>0.4883</td>\n",
       "    </tr>\n",
       "  </tbody>\n",
       "</table>\n",
       "</div>"
      ],
      "text/plain": [
       "          U-val alternative  p-val    RBC   CLES\n",
       "MWU 35,720.0000   two-sided 0.6437 0.0234 0.4883"
      ]
     },
     "execution_count": 60,
     "metadata": {},
     "output_type": "execute_result"
    }
   ],
   "source": [
    "import pingouin\n",
    "\n",
    "himym_tweets_df['series'] = \"himym\"\n",
    "friends_tweets_df['series'] = \"friends\"\n",
    "likes_df = himym_tweets_df[['series','Like Count']].append(friends_tweets_df[['series', 'Like Count']])\n",
    "likes_df_wide = likes_df.pivot(columns = 'series', values = 'Like Count')\n",
    "#likes_df_wide\n",
    "pingouin.mwu(x = likes_df_wide['friends'], y = likes_df_wide['himym'], alternative = 'two-sided')"
   ]
  },
  {
   "cell_type": "code",
   "execution_count": 61,
   "id": "503ea787",
   "metadata": {},
   "outputs": [
    {
     "name": "stdout",
     "output_type": "stream",
     "text": [
      "p-value:0.3219\n",
      "Fail to reject null hypothesis\n"
     ]
    }
   ],
   "source": [
    "#ttest,pvalue = stats.mannwhitneyu(standardized_friends_likes,standardized_himym_likes, alternative=\"less\")\n",
    "ttest,pvalue = stats.mannwhitneyu(friends_tweets_df['Like Count'],himym_tweets_df['Like Count'], alternative=\"less\")\n",
    "print(\"p-value:%.4f\" % pvalue)\n",
    "if pvalue <0.05:\n",
    "    print(\"Reject null hypothesis\")\n",
    "else:\n",
    "    print(\"Fail to reject null hypothesis\")"
   ]
  },
  {
   "cell_type": "code",
   "execution_count": 62,
   "id": "f3fb5779",
   "metadata": {},
   "outputs": [
    {
     "name": "stdout",
     "output_type": "stream",
     "text": [
      "p-value:0.6783\n",
      "Fail to reject null hypothesis\n"
     ]
    }
   ],
   "source": [
    "#ttest,pvalue = stats.mannwhitneyu(standardized_friends_likes,standardized_himym_likes, alternative=\"greater\")\n",
    "ttest,pvalue = stats.mannwhitneyu(friends_tweets_df['Like Count'],himym_tweets_df['Like Count'], alternative=\"greater\")\n",
    "print(\"p-value:%.4f\" % pvalue)\n",
    "if pvalue <0.05:\n",
    "    print(\"Reject null hypothesis\")\n",
    "else:\n",
    "    print(\"Fail to reject null hypothesis\")"
   ]
  },
  {
   "cell_type": "markdown",
   "id": "af3ced92",
   "metadata": {},
   "source": [
    "the probabilities of getting a sufficiently low value of the test statistic by chance under the null hypotheses are all greater than 5%, so we do not reject the null hypothesis in favor of any of our alternatives.\n",
    "</br>\n",
    "still saying that friends have less likes than himym is more sensible than vice versa as type I error is smaller. #bunu yanlış yaptım sanırım. friends < himym rejecte daha yakın aslında. \n",
    "\n",
    "</br> \n",
    "considering popularity by the tweets' likecounts of the official twitter accounts; we can say that there is no significant popularity difference. as like distributions of two series' tweets are not significantly different. this is drawn by the two-sided mannwhitney test, which is parallel to the research quesiton and considers the difference regardless of the sign of the difference"
   ]
  },
  {
   "cell_type": "markdown",
   "id": "59ed6076",
   "metadata": {},
   "source": [
    "<h4 style=\"margin-bottom:0\">RQ2) Considering like counts, is there a significant popularity difference between Friends characters?</h4> \n",
    "</br> - Is there a correlation between charachter pairs or statistically significant dependence on likes-tweets number ?"
   ]
  },
  {
   "cell_type": "code",
   "execution_count": 63,
   "id": "09bb2f3f",
   "metadata": {},
   "outputs": [],
   "source": [
    "chandler = []\n",
    "monica = []\n",
    "joey = []\n",
    "ross = []\n",
    "phoebe = []\n",
    "rachel = []"
   ]
  },
  {
   "cell_type": "code",
   "execution_count": 64,
   "id": "aa6845a4",
   "metadata": {},
   "outputs": [],
   "source": [
    "i = 0\n",
    "for i in range(len(friends_tweets_df)):\n",
    "    if \"chandler\" in friends_tweets_df['Modified_Text'][i]:\n",
    "        chandler.append(friends_tweets_df['Like Count'][i])\n",
    "    if \"monica\" in friends_tweets_df['Modified_Text'][i]:\n",
    "        monica.append(friends_tweets_df['Like Count'][i])\n",
    "    if \"ross\" in friends_tweets_df['Modified_Text'][i]:\n",
    "        ross.append(friends_tweets_df['Like Count'][i])\n",
    "    if \"phoebe\" in friends_tweets_df['Modified_Text'][i]:\n",
    "        phoebe.append(friends_tweets_df['Like Count'][i])\n",
    "    if \"joey\" in friends_tweets_df['Modified_Text'][i]:\n",
    "        joey.append(friends_tweets_df['Like Count'][i])\n",
    "    if \"rachel\" in friends_tweets_df['Modified_Text'][i]:\n",
    "        rachel.append(friends_tweets_df['Like Count'][i])    \n",
    "    i = i+1"
   ]
  },
  {
   "cell_type": "markdown",
   "id": "4892a47c",
   "metadata": {},
   "source": [
    "for not-normal distributions, with more than 2 groups Kruskal-Wallis can be used. It is the non-parametric version of ANOVA\n",
    "</br> The normality assumption is not satisfied, "
   ]
  },
  {
   "cell_type": "code",
   "execution_count": 65,
   "id": "23838255",
   "metadata": {},
   "outputs": [
    {
     "name": "stdout",
     "output_type": "stream",
     "text": [
      "p value:0.3877\n",
      "Fail to reject null hypothesis >> The variances of the samples are same.\n"
     ]
    }
   ],
   "source": [
    "#variance test\n",
    "#H₀: The variance of the samples is the same.\n",
    "#H₁: At least one of them is different.\n",
    "\n",
    "stat, pvalue_lev= stats.levene(chandler, ross, joey, monica, phoebe, rachel)\n",
    "\n",
    "print(\"p value:%.4f\" % pvalue_lev)\n",
    "if pvalue_lev <0.05:\n",
    "    print(\"Reject null hypothesis >> The variances of the samples are different.\")\n",
    "else:\n",
    "    print(\"Fail to reject null hypothesis >> The variances of the samples are same.\")"
   ]
  },
  {
   "cell_type": "code",
   "execution_count": 66,
   "id": "abbffca0",
   "metadata": {},
   "outputs": [
    {
     "name": "stdout",
     "output_type": "stream",
     "text": [
      "p value:0.158589\n",
      "Fail to reject null hypothesis >> There is no statistically significant difference between distributions\n"
     ]
    }
   ],
   "source": [
    "#H₀: The mean of the samples is the same.\n",
    "#H₁: At least one of them is different.\n",
    "\n",
    "F, p_value = stats.kruskal(chandler, ross, joey, monica, phoebe, rachel)\n",
    "print(\"p value:%.6f\" % p_value)\n",
    "if p_value <0.05:\n",
    "    print(\"Reject null hypothesis\")\n",
    "else:\n",
    "    print(\"Fail to reject null hypothesis >> There is no statistically significant difference between distributions\") #same "
   ]
  },
  {
   "cell_type": "markdown",
   "id": "785f830a",
   "metadata": {},
   "source": [
    "p value is high, at least small difference can be observed by posthoc.mannwhitney"
   ]
  },
  {
   "cell_type": "code",
   "execution_count": 67,
   "id": "e8d79fc6",
   "metadata": {},
   "outputs": [
    {
     "data": {
      "text/html": [
       "<style type=\"text/css\">\n",
       "#T_92d73_row0_col0, #T_92d73_row0_col1, #T_92d73_row0_col2, #T_92d73_row0_col3, #T_92d73_row0_col4, #T_92d73_row0_col5, #T_92d73_row1_col0, #T_92d73_row1_col1, #T_92d73_row1_col2, #T_92d73_row1_col3, #T_92d73_row1_col4, #T_92d73_row1_col5, #T_92d73_row2_col0, #T_92d73_row2_col1, #T_92d73_row2_col2, #T_92d73_row2_col3, #T_92d73_row2_col4, #T_92d73_row2_col5, #T_92d73_row3_col0, #T_92d73_row3_col1, #T_92d73_row3_col2, #T_92d73_row3_col3, #T_92d73_row3_col4, #T_92d73_row3_col5, #T_92d73_row4_col0, #T_92d73_row4_col1, #T_92d73_row4_col2, #T_92d73_row4_col3, #T_92d73_row4_col4, #T_92d73_row4_col5, #T_92d73_row5_col0, #T_92d73_row5_col1, #T_92d73_row5_col2, #T_92d73_row5_col3, #T_92d73_row5_col4, #T_92d73_row5_col5 {\n",
       "  background-color: white;\n",
       "}\n",
       "</style>\n",
       "<table id=\"T_92d73\">\n",
       "  <thead>\n",
       "    <tr>\n",
       "      <th class=\"blank level0\" >&nbsp;</th>\n",
       "      <th id=\"T_92d73_level0_col0\" class=\"col_heading level0 col0\" >chandler</th>\n",
       "      <th id=\"T_92d73_level0_col1\" class=\"col_heading level0 col1\" >ross</th>\n",
       "      <th id=\"T_92d73_level0_col2\" class=\"col_heading level0 col2\" >joey</th>\n",
       "      <th id=\"T_92d73_level0_col3\" class=\"col_heading level0 col3\" >monica</th>\n",
       "      <th id=\"T_92d73_level0_col4\" class=\"col_heading level0 col4\" >phoebe</th>\n",
       "      <th id=\"T_92d73_level0_col5\" class=\"col_heading level0 col5\" >rachel</th>\n",
       "    </tr>\n",
       "  </thead>\n",
       "  <tbody>\n",
       "    <tr>\n",
       "      <th id=\"T_92d73_level0_row0\" class=\"row_heading level0 row0\" >chandler</th>\n",
       "      <td id=\"T_92d73_row0_col0\" class=\"data row0 col0\" >1.000000</td>\n",
       "      <td id=\"T_92d73_row0_col1\" class=\"data row0 col1\" >0.412269</td>\n",
       "      <td id=\"T_92d73_row0_col2\" class=\"data row0 col2\" >1.000000</td>\n",
       "      <td id=\"T_92d73_row0_col3\" class=\"data row0 col3\" >1.000000</td>\n",
       "      <td id=\"T_92d73_row0_col4\" class=\"data row0 col4\" >1.000000</td>\n",
       "      <td id=\"T_92d73_row0_col5\" class=\"data row0 col5\" >1.000000</td>\n",
       "    </tr>\n",
       "    <tr>\n",
       "      <th id=\"T_92d73_level0_row1\" class=\"row_heading level0 row1\" >ross</th>\n",
       "      <td id=\"T_92d73_row1_col0\" class=\"data row1 col0\" >0.412269</td>\n",
       "      <td id=\"T_92d73_row1_col1\" class=\"data row1 col1\" >1.000000</td>\n",
       "      <td id=\"T_92d73_row1_col2\" class=\"data row1 col2\" >0.253652</td>\n",
       "      <td id=\"T_92d73_row1_col3\" class=\"data row1 col3\" >1.000000</td>\n",
       "      <td id=\"T_92d73_row1_col4\" class=\"data row1 col4\" >1.000000</td>\n",
       "      <td id=\"T_92d73_row1_col5\" class=\"data row1 col5\" >1.000000</td>\n",
       "    </tr>\n",
       "    <tr>\n",
       "      <th id=\"T_92d73_level0_row2\" class=\"row_heading level0 row2\" >joey</th>\n",
       "      <td id=\"T_92d73_row2_col0\" class=\"data row2 col0\" >1.000000</td>\n",
       "      <td id=\"T_92d73_row2_col1\" class=\"data row2 col1\" >0.253652</td>\n",
       "      <td id=\"T_92d73_row2_col2\" class=\"data row2 col2\" >1.000000</td>\n",
       "      <td id=\"T_92d73_row2_col3\" class=\"data row2 col3\" >1.000000</td>\n",
       "      <td id=\"T_92d73_row2_col4\" class=\"data row2 col4\" >1.000000</td>\n",
       "      <td id=\"T_92d73_row2_col5\" class=\"data row2 col5\" >1.000000</td>\n",
       "    </tr>\n",
       "    <tr>\n",
       "      <th id=\"T_92d73_level0_row3\" class=\"row_heading level0 row3\" >monica</th>\n",
       "      <td id=\"T_92d73_row3_col0\" class=\"data row3 col0\" >1.000000</td>\n",
       "      <td id=\"T_92d73_row3_col1\" class=\"data row3 col1\" >1.000000</td>\n",
       "      <td id=\"T_92d73_row3_col2\" class=\"data row3 col2\" >1.000000</td>\n",
       "      <td id=\"T_92d73_row3_col3\" class=\"data row3 col3\" >1.000000</td>\n",
       "      <td id=\"T_92d73_row3_col4\" class=\"data row3 col4\" >1.000000</td>\n",
       "      <td id=\"T_92d73_row3_col5\" class=\"data row3 col5\" >1.000000</td>\n",
       "    </tr>\n",
       "    <tr>\n",
       "      <th id=\"T_92d73_level0_row4\" class=\"row_heading level0 row4\" >phoebe</th>\n",
       "      <td id=\"T_92d73_row4_col0\" class=\"data row4 col0\" >1.000000</td>\n",
       "      <td id=\"T_92d73_row4_col1\" class=\"data row4 col1\" >1.000000</td>\n",
       "      <td id=\"T_92d73_row4_col2\" class=\"data row4 col2\" >1.000000</td>\n",
       "      <td id=\"T_92d73_row4_col3\" class=\"data row4 col3\" >1.000000</td>\n",
       "      <td id=\"T_92d73_row4_col4\" class=\"data row4 col4\" >1.000000</td>\n",
       "      <td id=\"T_92d73_row4_col5\" class=\"data row4 col5\" >1.000000</td>\n",
       "    </tr>\n",
       "    <tr>\n",
       "      <th id=\"T_92d73_level0_row5\" class=\"row_heading level0 row5\" >rachel</th>\n",
       "      <td id=\"T_92d73_row5_col0\" class=\"data row5 col0\" >1.000000</td>\n",
       "      <td id=\"T_92d73_row5_col1\" class=\"data row5 col1\" >1.000000</td>\n",
       "      <td id=\"T_92d73_row5_col2\" class=\"data row5 col2\" >1.000000</td>\n",
       "      <td id=\"T_92d73_row5_col3\" class=\"data row5 col3\" >1.000000</td>\n",
       "      <td id=\"T_92d73_row5_col4\" class=\"data row5 col4\" >1.000000</td>\n",
       "      <td id=\"T_92d73_row5_col5\" class=\"data row5 col5\" >1.000000</td>\n",
       "    </tr>\n",
       "  </tbody>\n",
       "</table>\n"
      ],
      "text/plain": [
       "<pandas.io.formats.style.Styler at 0x7fdf70ad3520>"
      ]
     },
     "execution_count": 67,
     "metadata": {},
     "output_type": "execute_result"
    }
   ],
   "source": [
    "posthoc_df = sp.posthoc_mannwhitney([chandler, ross, joey, monica, phoebe, rachel], p_adjust = 'bonferroni')\n",
    "#mannwhitneyde ordinally scaled olmalı diyor slayt.\n",
    "group_names= [\"chandler\", \"ross\", \"joey\", \"monica\", \"phoebe\", \"rachel\"]\n",
    "posthoc_df.columns= group_names\n",
    "posthoc_df.index= group_names\n",
    "posthoc_df.style.applymap(lambda x: \"background-color:violet\" if x<0.05 else \"background-color: white\")"
   ]
  },
  {
   "cell_type": "markdown",
   "id": "e5551fb9",
   "metadata": {},
   "source": [
    "as these tweets are collected from official Friends account, comparing related likes count rather than related tweet numbers seemed more sensible to me"
   ]
  },
  {
   "cell_type": "markdown",
   "id": "5a87eda8",
   "metadata": {},
   "source": [
    "I also wanted to check the tweet distributions from different personal accounts and see charachter-wise correlation \n"
   ]
  },
  {
   "cell_type": "markdown",
   "id": "294d2d1a",
   "metadata": {},
   "source": [
    "Datasets Creation"
   ]
  },
  {
   "cell_type": "code",
   "execution_count": 101,
   "id": "a07ce08d",
   "metadata": {},
   "outputs": [],
   "source": [
    "#chandlerbing_tweets_list = []\n",
    "#for i,tweet in enumerate(sntwitter.TwitterSearchScraper(\"'chandler bing' since:2022-06-01 until:2022-06-07 lang:en\").get_items()): #declare a username \n",
    "#    chandlerbing_tweets_list.append([tweet.date, tweet.content, tweet.user.username, tweet.hashtags, tweet.likeCount, tweet.retweetCount, tweet.replyCount]) #declare the attributes to be returned\n",
    "#chandlerbing_tweets_df = pd.DataFrame(chandlerbing_tweets_list, columns=['Date', 'Text', 'Username', 'Hashtags', 'Like Count', 'Retweet Count', 'Reply Count'])"
   ]
  },
  {
   "cell_type": "code",
   "execution_count": 40,
   "id": "364b437c",
   "metadata": {},
   "outputs": [],
   "source": [
    "#chandlerbing_tweets_df.to_json('chandlerbing_tweets_original.json', orient = 'split', compression = 'infer', index = 'true')"
   ]
  },
  {
   "cell_type": "code",
   "execution_count": 8,
   "id": "7ac810e9",
   "metadata": {},
   "outputs": [],
   "source": [
    "#monicag_tweets_list = []\n",
    "#for i,tweet in enumerate(sntwitter.TwitterSearchScraper(\"'monica geller' since:2022-06-01 until:2022-06-07 lang:en\").get_items()): #declare a username \n",
    "#    monicag_tweets_list.append([tweet.date, tweet.content, tweet.user.username, tweet.hashtags, tweet.likeCount, tweet.retweetCount, tweet.replyCount]) #declare the attributes to be returned\n",
    "#monicag_tweets_df = pd.DataFrame(monicag_tweets_list, columns=['Date', 'Text', 'Username', 'Hashtags', 'Like Count', 'Retweet Count', 'Reply Count'])"
   ]
  },
  {
   "cell_type": "code",
   "execution_count": 13,
   "id": "868621ad",
   "metadata": {},
   "outputs": [],
   "source": [
    "#monicag_tweets_df.to_json('monicag_tweets_original.json', orient = 'split', compression = 'infer', index = 'true')"
   ]
  },
  {
   "cell_type": "code",
   "execution_count": 12,
   "id": "8a69f9d9",
   "metadata": {},
   "outputs": [],
   "source": [
    "#joeyt_tweets_list = []\n",
    "#for i,tweet in enumerate(sntwitter.TwitterSearchScraper(\"'joey tribbiani' since:2022-06-01 until:2022-06-07 lang:en\").get_items()): #declare a username \n",
    "#    joeyt_tweets_list.append([tweet.date, tweet.content, tweet.user.username, tweet.hashtags, tweet.likeCount, tweet.retweetCount, tweet.replyCount]) #declare the attributes to be returned\n",
    "#joeyt_tweets_df = pd.DataFrame(joeyt_tweets_list, columns=['Date', 'Text', 'Username', 'Hashtags', 'Like Count', 'Retweet Count', 'Reply Count'])"
   ]
  },
  {
   "cell_type": "code",
   "execution_count": 14,
   "id": "13b1e630",
   "metadata": {},
   "outputs": [],
   "source": [
    "#joeyt_tweets_df.to_json('joeyt_tweets_original.json', orient = 'split', compression = 'infer', index = 'true')"
   ]
  },
  {
   "cell_type": "code",
   "execution_count": 15,
   "id": "bdec84d4",
   "metadata": {},
   "outputs": [],
   "source": [
    "#rossg_tweets_list = []\n",
    "#for i,tweet in enumerate(sntwitter.TwitterSearchScraper(\"'ross geller' since:2022-06-01 until:2022-06-07 lang:en\").get_items()): #declare a username \n",
    "#    rossg_tweets_list.append([tweet.date, tweet.content, tweet.user.username, tweet.hashtags, tweet.likeCount, tweet.retweetCount, tweet.replyCount]) #declare the attributes to be returned\n",
    "#rossg_tweets_df = pd.DataFrame(rossg_tweets_list, columns=['Date', 'Text', 'Username', 'Hashtags', 'Like Count', 'Retweet Count', 'Reply Count'])"
   ]
  },
  {
   "cell_type": "code",
   "execution_count": 16,
   "id": "df7bae39",
   "metadata": {},
   "outputs": [],
   "source": [
    "#rossg_tweets_df.to_json('rossg_tweets_original.json', orient = 'split', compression = 'infer', index = 'true')"
   ]
  },
  {
   "cell_type": "code",
   "execution_count": 17,
   "id": "1f3be7fb",
   "metadata": {},
   "outputs": [],
   "source": [
    "#phoebeb_tweets_list = []\n",
    "#for i,tweet in enumerate(sntwitter.TwitterSearchScraper(\"'phoebe buffay' since:2022-06-01 until:2022-06-07 lang:en\").get_items()): #declare a username \n",
    "#    phoebeb_tweets_list.append([tweet.date, tweet.content, tweet.user.username, tweet.hashtags, tweet.likeCount, tweet.retweetCount, tweet.replyCount]) #declare the attributes to be returned\n",
    "#phoebeb_tweets_df = pd.DataFrame(phoebeb_tweets_list, columns=['Date', 'Text', 'Username', 'Hashtags', 'Like Count', 'Retweet Count', 'Reply Count'])"
   ]
  },
  {
   "cell_type": "code",
   "execution_count": 18,
   "id": "4dbb037f",
   "metadata": {},
   "outputs": [],
   "source": [
    "#phoebeb_tweets_df.to_json('phoebeb_tweets_original.json', orient = 'split', compression = 'infer', index = 'true')"
   ]
  },
  {
   "cell_type": "code",
   "execution_count": 22,
   "id": "721a1b88",
   "metadata": {},
   "outputs": [],
   "source": [
    "#rachelg_tweets_list = []\n",
    "#for i,tweet in enumerate(sntwitter.TwitterSearchScraper(\"'rachel green' since:2022-06-01 until:2022-06-07 lang:en\").get_items()): #declare a username \n",
    "#    rachelg_tweets_list.append([tweet.date, tweet.content, tweet.user.username, tweet.hashtags, tweet.likeCount, tweet.retweetCount, tweet.replyCount]) #declare the attributes to be returned\n",
    "#rachelg_tweets_df = pd.DataFrame(rachelg_tweets_list, columns=['Date', 'Text', 'Username', 'Hashtags', 'Like Count', 'Retweet Count', 'Reply Count'])"
   ]
  },
  {
   "cell_type": "code",
   "execution_count": 23,
   "id": "2fa1e1b9",
   "metadata": {},
   "outputs": [],
   "source": [
    "#rachelg_tweets_df.to_json('rachelg_tweets_original.json', orient = 'split', compression = 'infer', index = 'true')"
   ]
  },
  {
   "cell_type": "markdown",
   "id": "7f41d272",
   "metadata": {},
   "source": [
    "Datasets Read"
   ]
  },
  {
   "cell_type": "code",
   "execution_count": 68,
   "id": "4418dfac",
   "metadata": {},
   "outputs": [],
   "source": [
    "chandlerbing_tweets_df = pd.read_json('chandlerbing_tweets_original.json', orient ='split', compression = 'infer')\n",
    "monicag_tweets_df = pd.read_json('monicag_tweets_original.json', orient ='split', compression = 'infer')\n",
    "joeyt_tweets_df = pd.read_json('joeyt_tweets_original.json', orient ='split', compression = 'infer')\n",
    "rachelg_tweets_df = pd.read_json('rachelg_tweets_original.json', orient ='split', compression = 'infer')\n",
    "rossg_tweets_df = pd.read_json('rossg_tweets_original.json', orient ='split', compression = 'infer')\n",
    "phoebeb_tweets_df = pd.read_json('phoebeb_tweets_original.json', orient ='split', compression = 'infer')\n"
   ]
  },
  {
   "cell_type": "code",
   "execution_count": 69,
   "id": "16781ba0",
   "metadata": {},
   "outputs": [],
   "source": [
    "#chandlerbing_tweets_df.head()"
   ]
  },
  {
   "cell_type": "code",
   "execution_count": 70,
   "id": "a0c9b684",
   "metadata": {},
   "outputs": [],
   "source": [
    "monicag_tweets_df['Date'] = pd.to_datetime(monicag_tweets_df[\"Date\"]).dt.date\n",
    "chandlerbing_tweets_df['Date'] = pd.to_datetime(chandlerbing_tweets_df[\"Date\"]).dt.date\n",
    "joeyt_tweets_df['Date'] = pd.to_datetime(joeyt_tweets_df[\"Date\"]).dt.date\n",
    "phoebeb_tweets_df['Date'] = pd.to_datetime(phoebeb_tweets_df[\"Date\"]).dt.date\n",
    "rachelg_tweets_df['Date'] = pd.to_datetime(rachelg_tweets_df[\"Date\"]).dt.date\n",
    "rossg_tweets_df['Date'] = pd.to_datetime(rossg_tweets_df[\"Date\"]).dt.date"
   ]
  },
  {
   "cell_type": "code",
   "execution_count": 71,
   "id": "58bbdb7f",
   "metadata": {},
   "outputs": [],
   "source": [
    "chandlerbing_tweets_df['TweetCount'] = 1\n",
    "monicag_tweets_df['TweetCount'] =1\n",
    "chandlerbing_tweets_df['TweetCount'] = 1\n",
    "joeyt_tweets_df['TweetCount'] = 1\n",
    "phoebeb_tweets_df['TweetCount'] = 1\n",
    "rachelg_tweets_df['TweetCount'] = 1\n",
    "rossg_tweets_df['TweetCount'] = 1"
   ]
  },
  {
   "cell_type": "code",
   "execution_count": 72,
   "id": "d836651e",
   "metadata": {},
   "outputs": [],
   "source": [
    "monica_timeseries = monicag_tweets_df.groupby('Date', as_index= False).sum()\n",
    "chandlerbing_timeseries = chandlerbing_tweets_df.groupby('Date', as_index= False).sum()\n",
    "rachelg_timeseries = rachelg_tweets_df.groupby('Date', as_index= False).sum()\n",
    "joeyt_timeseries = joeyt_tweets_df.groupby('Date', as_index= False).sum()\n",
    "rachelg_timeseries = rachelg_tweets_df.groupby('Date', as_index= False).sum()\n",
    "rossg_timeseries = rossg_tweets_df.groupby('Date', as_index= False).sum()\n",
    "phoebeb_timeseries = phoebeb_tweets_df.groupby('Date', as_index= False).sum()"
   ]
  },
  {
   "cell_type": "code",
   "execution_count": 73,
   "id": "49d1d33a",
   "metadata": {},
   "outputs": [],
   "source": [
    "datedata = monica_timeseries['Date']\n",
    "likesdf = pd.DataFrame(datedata)\n",
    "tweetsdf = pd.DataFrame(datedata)"
   ]
  },
  {
   "cell_type": "code",
   "execution_count": 74,
   "id": "cddeb567",
   "metadata": {},
   "outputs": [
    {
     "data": {
      "text/html": [
       "<div>\n",
       "<style scoped>\n",
       "    .dataframe tbody tr th:only-of-type {\n",
       "        vertical-align: middle;\n",
       "    }\n",
       "\n",
       "    .dataframe tbody tr th {\n",
       "        vertical-align: top;\n",
       "    }\n",
       "\n",
       "    .dataframe thead th {\n",
       "        text-align: right;\n",
       "    }\n",
       "</style>\n",
       "<table border=\"1\" class=\"dataframe\">\n",
       "  <thead>\n",
       "    <tr style=\"text-align: right;\">\n",
       "      <th></th>\n",
       "      <th>Date</th>\n",
       "      <th>Like Count</th>\n",
       "      <th>Retweet Count</th>\n",
       "      <th>Reply Count</th>\n",
       "      <th>TweetCount</th>\n",
       "    </tr>\n",
       "  </thead>\n",
       "  <tbody>\n",
       "    <tr>\n",
       "      <th>0</th>\n",
       "      <td>2022-06-01</td>\n",
       "      <td>63</td>\n",
       "      <td>7</td>\n",
       "      <td>6</td>\n",
       "      <td>11</td>\n",
       "    </tr>\n",
       "    <tr>\n",
       "      <th>1</th>\n",
       "      <td>2022-06-02</td>\n",
       "      <td>1290</td>\n",
       "      <td>123</td>\n",
       "      <td>8</td>\n",
       "      <td>15</td>\n",
       "    </tr>\n",
       "    <tr>\n",
       "      <th>2</th>\n",
       "      <td>2022-06-03</td>\n",
       "      <td>16</td>\n",
       "      <td>0</td>\n",
       "      <td>3</td>\n",
       "      <td>14</td>\n",
       "    </tr>\n",
       "    <tr>\n",
       "      <th>3</th>\n",
       "      <td>2022-06-04</td>\n",
       "      <td>58</td>\n",
       "      <td>0</td>\n",
       "      <td>10</td>\n",
       "      <td>9</td>\n",
       "    </tr>\n",
       "    <tr>\n",
       "      <th>4</th>\n",
       "      <td>2022-06-05</td>\n",
       "      <td>779</td>\n",
       "      <td>58</td>\n",
       "      <td>0</td>\n",
       "      <td>12</td>\n",
       "    </tr>\n",
       "    <tr>\n",
       "      <th>5</th>\n",
       "      <td>2022-06-06</td>\n",
       "      <td>12730</td>\n",
       "      <td>2138</td>\n",
       "      <td>9</td>\n",
       "      <td>14</td>\n",
       "    </tr>\n",
       "  </tbody>\n",
       "</table>\n",
       "</div>"
      ],
      "text/plain": [
       "         Date  Like Count  Retweet Count  Reply Count  TweetCount\n",
       "0  2022-06-01          63              7            6          11\n",
       "1  2022-06-02        1290            123            8          15\n",
       "2  2022-06-03          16              0            3          14\n",
       "3  2022-06-04          58              0           10           9\n",
       "4  2022-06-05         779             58            0          12\n",
       "5  2022-06-06       12730           2138            9          14"
      ]
     },
     "execution_count": 74,
     "metadata": {},
     "output_type": "execute_result"
    }
   ],
   "source": [
    "monica_timeseries"
   ]
  },
  {
   "cell_type": "code",
   "execution_count": 75,
   "id": "cf14f913",
   "metadata": {},
   "outputs": [],
   "source": [
    "likesdf['MonicaLike'] = monica_timeseries['Like Count']\n",
    "likesdf['ChandlerLike'] = chandlerbing_timeseries['Like Count']\n",
    "likesdf['RossLike'] = rossg_timeseries['Like Count']\n",
    "likesdf['RachelLike'] = rachelg_timeseries['Like Count']\n",
    "likesdf['PheobeLike'] = phoebeb_timeseries['Like Count']\n",
    "likesdf['JoeyLike'] = joeyt_timeseries['Like Count']"
   ]
  },
  {
   "cell_type": "code",
   "execution_count": 76,
   "id": "64a5a480",
   "metadata": {},
   "outputs": [],
   "source": [
    "tweetsdf['MonicaLike'] = monica_timeseries['TweetCount']\n",
    "tweetsdf['ChandlerLike'] = chandlerbing_timeseries['TweetCount']\n",
    "tweetsdf['RossLike'] = rossg_timeseries['TweetCount']\n",
    "tweetsdf['RachelLike'] = rachelg_timeseries['TweetCount']\n",
    "tweetsdf['PheobeLike'] = phoebeb_timeseries['TweetCount']\n",
    "tweetsdf['JoeyLike'] = joeyt_timeseries['TweetCount']"
   ]
  },
  {
   "cell_type": "code",
   "execution_count": 77,
   "id": "a5951e61",
   "metadata": {},
   "outputs": [],
   "source": [
    "import seaborn as sn\n",
    "import matplotlib.pyplot as plt"
   ]
  },
  {
   "cell_type": "code",
   "execution_count": 78,
   "id": "47f35918",
   "metadata": {},
   "outputs": [
    {
     "data": {
      "text/html": [
       "<div>\n",
       "<style scoped>\n",
       "    .dataframe tbody tr th:only-of-type {\n",
       "        vertical-align: middle;\n",
       "    }\n",
       "\n",
       "    .dataframe tbody tr th {\n",
       "        vertical-align: top;\n",
       "    }\n",
       "\n",
       "    .dataframe thead th {\n",
       "        text-align: right;\n",
       "    }\n",
       "</style>\n",
       "<table border=\"1\" class=\"dataframe\">\n",
       "  <thead>\n",
       "    <tr style=\"text-align: right;\">\n",
       "      <th></th>\n",
       "      <th>Date</th>\n",
       "      <th>MonicaLike</th>\n",
       "      <th>ChandlerLike</th>\n",
       "      <th>RossLike</th>\n",
       "      <th>RachelLike</th>\n",
       "      <th>PheobeLike</th>\n",
       "      <th>JoeyLike</th>\n",
       "    </tr>\n",
       "  </thead>\n",
       "  <tbody>\n",
       "    <tr>\n",
       "      <th>0</th>\n",
       "      <td>2022-06-01</td>\n",
       "      <td>11</td>\n",
       "      <td>46</td>\n",
       "      <td>29</td>\n",
       "      <td>31</td>\n",
       "      <td>24</td>\n",
       "      <td>16</td>\n",
       "    </tr>\n",
       "    <tr>\n",
       "      <th>1</th>\n",
       "      <td>2022-06-02</td>\n",
       "      <td>15</td>\n",
       "      <td>43</td>\n",
       "      <td>15</td>\n",
       "      <td>22</td>\n",
       "      <td>19</td>\n",
       "      <td>13</td>\n",
       "    </tr>\n",
       "    <tr>\n",
       "      <th>2</th>\n",
       "      <td>2022-06-03</td>\n",
       "      <td>14</td>\n",
       "      <td>58</td>\n",
       "      <td>24</td>\n",
       "      <td>21</td>\n",
       "      <td>25</td>\n",
       "      <td>23</td>\n",
       "    </tr>\n",
       "    <tr>\n",
       "      <th>3</th>\n",
       "      <td>2022-06-04</td>\n",
       "      <td>9</td>\n",
       "      <td>32</td>\n",
       "      <td>18</td>\n",
       "      <td>40</td>\n",
       "      <td>16</td>\n",
       "      <td>16</td>\n",
       "    </tr>\n",
       "    <tr>\n",
       "      <th>4</th>\n",
       "      <td>2022-06-05</td>\n",
       "      <td>12</td>\n",
       "      <td>42</td>\n",
       "      <td>18</td>\n",
       "      <td>21</td>\n",
       "      <td>33</td>\n",
       "      <td>18</td>\n",
       "    </tr>\n",
       "    <tr>\n",
       "      <th>5</th>\n",
       "      <td>2022-06-06</td>\n",
       "      <td>14</td>\n",
       "      <td>38</td>\n",
       "      <td>15</td>\n",
       "      <td>24</td>\n",
       "      <td>12</td>\n",
       "      <td>14</td>\n",
       "    </tr>\n",
       "  </tbody>\n",
       "</table>\n",
       "</div>"
      ],
      "text/plain": [
       "         Date  MonicaLike  ChandlerLike  RossLike  RachelLike  PheobeLike  \\\n",
       "0  2022-06-01          11            46        29          31          24   \n",
       "1  2022-06-02          15            43        15          22          19   \n",
       "2  2022-06-03          14            58        24          21          25   \n",
       "3  2022-06-04           9            32        18          40          16   \n",
       "4  2022-06-05          12            42        18          21          33   \n",
       "5  2022-06-06          14            38        15          24          12   \n",
       "\n",
       "   JoeyLike  \n",
       "0        16  \n",
       "1        13  \n",
       "2        23  \n",
       "3        16  \n",
       "4        18  \n",
       "5        14  "
      ]
     },
     "execution_count": 78,
     "metadata": {},
     "output_type": "execute_result"
    }
   ],
   "source": [
    "tweetsdf"
   ]
  },
  {
   "cell_type": "code",
   "execution_count": 79,
   "id": "3806f790",
   "metadata": {},
   "outputs": [
    {
     "data": {
      "text/plain": [
       "<AxesSubplot:>"
      ]
     },
     "execution_count": 79,
     "metadata": {},
     "output_type": "execute_result"
    },
    {
     "data": {
      "image/png": "[encoded data removed]",
      "text/plain": [
       "<Figure size 640x480 with 2 Axes>"
      ]
     },
     "metadata": {},
     "output_type": "display_data"
    }
   ],
   "source": [
    "corr_matrix = likesdf.corr()\n",
    "sn.heatmap(corr_matrix, annot=True)"
   ]
  },
  {
   "cell_type": "markdown",
   "id": "8bdb8732",
   "metadata": {},
   "source": [
    "Chi-square is a simple test statistic that permits you to assess if relationships between two variables in a sample are due to chance or the relationship is systematic."
   ]
  },
  {
   "cell_type": "code",
   "execution_count": 80,
   "id": "04563c24",
   "metadata": {},
   "outputs": [],
   "source": [
    "chi = pd.crosstab(likesdf['JoeyLike'], likesdf['ChandlerLike'] , margins=True)\n"
   ]
  },
  {
   "cell_type": "code",
   "execution_count": 81,
   "id": "1f89cb21",
   "metadata": {},
   "outputs": [],
   "source": [
    "chit = pd.crosstab(likesdf['JoeyLike'], tweetsdf['JoeyLike'] , margins=True)"
   ]
  },
  {
   "cell_type": "code",
   "execution_count": 82,
   "id": "23326f02",
   "metadata": {},
   "outputs": [
    {
     "name": "stdout",
     "output_type": "stream",
     "text": [
      "p value:0.7489\n",
      "Fail to reject null hypothesis >> Likes of joey_tweets is independent of chandler_tweets\n"
     ]
    }
   ],
   "source": [
    "chi2, p, dof, ex = stats.chi2_contingency(chi)\n",
    "print(\"p value:%.4f\" % p)\n",
    "if p <0.05:    \n",
    "    print(\"Reject null hypothesis >> Likes of joey_tweets is not independent of chandler_tweets\")\n",
    "else:\n",
    "    print(\"Fail to reject null hypothesis >> Likes of joey_tweets is independent of chandler_tweets\")"
   ]
  },
  {
   "cell_type": "code",
   "execution_count": 83,
   "id": "bab46017",
   "metadata": {},
   "outputs": [
    {
     "name": "stdout",
     "output_type": "stream",
     "text": [
      "p value:0.7720\n",
      "Fail to reject null hypothesis >> Likes of joey_tweets is independent of number of joey_tweets\n"
     ]
    }
   ],
   "source": [
    "chi2, p, dof, ex = stats.chi2_contingency(chit)\n",
    "print(\"p value:%.4f\" % p)\n",
    "if p <0.05:    \n",
    "    print(\"Reject null hypothesis >> Likes of joey_tweets is not independent of number of joey_tweets\")\n",
    "else:\n",
    "    print(\"Fail to reject null hypothesis >> Likes of joey_tweets is independent of number of joey_tweets\")"
   ]
  }
 ],
 "metadata": {
  "kernelspec": {
   "display_name": "Python 3 (ipykernel)",
   "language": "python",
   "name": "python3"
  },
  "language_info": {
   "codemirror_mode": {
    "name": "ipython",
    "version": 3
   },
   "file_extension": ".py",
   "mimetype": "text/x-python",
   "name": "python",
   "nbconvert_exporter": "python",
   "pygments_lexer": "ipython3",
   "version": "3.9.13"
  },
  "vscode": {
   "interpreter": {
    "hash": "aee8b7b246df8f9039afb4144a1f6fd8d2ca17a180786b69acc140d282b71a49"
   }
  }
 },
 "nbformat": 4,
 "nbformat_minor": 5
}
